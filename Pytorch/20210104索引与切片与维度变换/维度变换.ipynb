{
 "cells": [
  {
   "cell_type": "markdown",
   "metadata": {},
   "source": [
    "## 维度变换\r\n",
    "* View/reshape\r\n",
    "* Squeeze/unsqueeze\r\n",
    "* Transpose/t/permute\r\n",
    "* Expand/repeat\r\n"
   ]
  },
  {
   "cell_type": "code",
   "execution_count": null,
   "metadata": {},
   "outputs": [],
   "source": []
  },
  {
   "cell_type": "code",
   "execution_count": 8,
   "metadata": {},
   "outputs": [
    {
     "data": {
      "text/plain": "tensor([[[[0.7295, 0.0173, 0.8901,  ..., 0.0458, 0.8855, 0.4286],\n          [0.4318, 0.5599, 0.8178,  ..., 0.6502, 0.1264, 0.4787],\n          [0.3983, 0.2538, 0.6616,  ..., 0.8577, 0.7860, 0.4198],\n          ...,\n          [0.2878, 0.3797, 0.9540,  ..., 0.4108, 0.1313, 0.1910],\n          [0.4590, 0.1471, 0.4318,  ..., 0.9068, 0.9482, 0.2631],\n          [0.1414, 0.9322, 0.1992,  ..., 0.7625, 0.2551, 0.5539]]],\n\n\n        [[[0.3247, 0.2941, 0.6151,  ..., 0.3611, 0.9294, 0.2660],\n          [0.9192, 0.9472, 0.7803,  ..., 0.7166, 0.9875, 0.8350],\n          [0.4200, 0.8611, 0.8524,  ..., 0.3000, 0.7025, 0.1265],\n          ...,\n          [0.4108, 0.8847, 0.4140,  ..., 0.9764, 0.3141, 0.9568],\n          [0.7677, 0.9677, 0.3876,  ..., 0.3227, 0.4702, 0.9358],\n          [0.1066, 0.0376, 0.1768,  ..., 0.5759, 0.8540, 0.9755]]],\n\n\n        [[[0.3737, 0.5098, 0.8147,  ..., 0.9327, 0.2745, 0.1571],\n          [0.1492, 0.9367, 0.8540,  ..., 0.8950, 0.7366, 0.3407],\n          [0.2046, 0.9828, 0.8576,  ..., 0.0918, 0.3734, 0.3496],\n          ...,\n          [0.2648, 0.9620, 0.9366,  ..., 0.3925, 0.5153, 0.5716],\n          [0.3149, 0.4518, 0.7373,  ..., 0.0207, 0.7647, 0.4752],\n          [0.0196, 0.3309, 0.9811,  ..., 0.9056, 0.5568, 0.4294]]],\n\n\n        [[[0.7112, 0.2826, 0.6624,  ..., 0.3215, 0.1916, 0.6043],\n          [0.5558, 0.1631, 0.0990,  ..., 0.8007, 0.1125, 0.1916],\n          [0.5826, 0.2509, 0.5477,  ..., 0.1375, 0.6562, 0.3586],\n          ...,\n          [0.3784, 0.6188, 0.9027,  ..., 0.7668, 0.6238, 0.1721],\n          [0.0754, 0.4533, 0.8269,  ..., 0.5764, 0.9035, 0.4570],\n          [0.0538, 0.9163, 0.9055,  ..., 0.6714, 0.1555, 0.7151]]]])"
     },
     "execution_count": 8,
     "metadata": {},
     "output_type": "execute_result"
    }
   ],
   "source": [
    "import torch\r\n",
    "a = torch.rand(4,1,28,28)\r\n",
    "a"
   ]
  },
  {
   "cell_type": "code",
   "execution_count": 9,
   "metadata": {},
   "outputs": [
    {
     "data": {
      "text/plain": "torch.Size([4, 1, 28, 28])"
     },
     "execution_count": 9,
     "metadata": {},
     "output_type": "execute_result"
    }
   ],
   "source": [
    "a.shape"
   ]
  },
  {
   "cell_type": "code",
   "execution_count": 10,
   "metadata": {},
   "outputs": [
    {
     "data": {
      "text/plain": "tensor([[0.7295, 0.0173, 0.8901,  ..., 0.7625, 0.2551, 0.5539],\n        [0.3247, 0.2941, 0.6151,  ..., 0.5759, 0.8540, 0.9755],\n        [0.3737, 0.5098, 0.8147,  ..., 0.9056, 0.5568, 0.4294],\n        [0.7112, 0.2826, 0.6624,  ..., 0.6714, 0.1555, 0.7151]])"
     },
     "execution_count": 10,
     "metadata": {},
     "output_type": "execute_result"
    }
   ],
   "source": [
    "a.view(4,28*28)"
   ]
  },
  {
   "cell_type": "code",
   "execution_count": 11,
   "metadata": {},
   "outputs": [
    {
     "data": {
      "text/plain": "torch.Size([4, 784])"
     },
     "execution_count": 11,
     "metadata": {},
     "output_type": "execute_result"
    }
   ],
   "source": [
    "a.view(4,28*28).shape"
   ]
  },
  {
   "cell_type": "code",
   "execution_count": 12,
   "metadata": {},
   "outputs": [
    {
     "data": {
      "text/plain": "torch.Size([112, 28])"
     },
     "execution_count": 12,
     "metadata": {},
     "output_type": "execute_result"
    }
   ],
   "source": [
    "a.view(4*28,28).shape"
   ]
  },
  {
   "cell_type": "code",
   "execution_count": 14,
   "metadata": {},
   "outputs": [
    {
     "data": {
      "text/plain": "torch.Size([4, 28, 28, 1])"
     },
     "execution_count": 14,
     "metadata": {},
     "output_type": "execute_result"
    }
   ],
   "source": [
    "b = a.view(4,784)\r\n",
    "b.view(4,28,28,1).shape"
   ]
  },
  {
   "cell_type": "code",
   "execution_count": 15,
   "metadata": {},
   "outputs": [
    {
     "data": {
      "text/plain": "torch.Size([4, 1, 28, 28])"
     },
     "execution_count": 15,
     "metadata": {},
     "output_type": "execute_result"
    }
   ],
   "source": [
    "# 展开维度,增加额外的维度\r\n",
    "a = torch.rand(4,1,28,28)\r\n",
    "a.shape"
   ]
  },
  {
   "cell_type": "code",
   "execution_count": 16,
   "metadata": {},
   "outputs": [
    {
     "data": {
      "text/plain": "torch.Size([1, 4, 1, 28, 28])"
     },
     "execution_count": 16,
     "metadata": {},
     "output_type": "execute_result"
    }
   ],
   "source": [
    "a.unsqueeze(0).shape"
   ]
  },
  {
   "cell_type": "code",
   "execution_count": 17,
   "metadata": {},
   "outputs": [
    {
     "data": {
      "text/plain": "torch.Size([4, 1, 28, 28, 1])"
     },
     "execution_count": 17,
     "metadata": {},
     "output_type": "execute_result"
    }
   ],
   "source": [
    "a.unsqueeze(-1).shape"
   ]
  },
  {
   "cell_type": "code",
   "execution_count": 18,
   "metadata": {},
   "outputs": [
    {
     "data": {
      "text/plain": "torch.Size([4, 1, 28, 28, 1])"
     },
     "execution_count": 18,
     "metadata": {},
     "output_type": "execute_result"
    }
   ],
   "source": [
    "a.unsqueeze(4).shape"
   ]
  },
  {
   "cell_type": "code",
   "execution_count": 19,
   "metadata": {},
   "outputs": [
    {
     "data": {
      "text/plain": "torch.Size([4, 1, 1, 28, 28])"
     },
     "execution_count": 19,
     "metadata": {},
     "output_type": "execute_result"
    }
   ],
   "source": [
    "a.unsqueeze(1).shape"
   ]
  },
  {
   "cell_type": "code",
   "execution_count": 2,
   "metadata": {},
   "outputs": [
    {
     "name": "stdout",
     "output_type": "stream",
     "text": [
      "tensor([[1.2000],\n",
      "        [3.4000]])\n",
      "torch.Size([2, 1])\n",
      "tensor([[1.2000, 3.4000]])\n",
      "torch.Size([1, 2])\n"
     ]
    },
    {
     "data": {
      "text/plain": "'\\ntensor([[1.2000],\\n        [3.4000]])\\ntorch.Size([2, 1])\\ntensor([[1.2000, 3.4000]])\\ntorch.Size([1, 2])\\n'"
     },
     "execution_count": 2,
     "metadata": {},
     "output_type": "execute_result"
    }
   ],
   "source": [
    "import torch\r\n",
    "a = torch.tensor([1.2,3.4])\r\n",
    "\r\n",
    "b = a.unsqueeze(-1)\r\n",
    "print(b)\r\n",
    "print(b.shape) #2,1\r\n",
    "\r\n",
    "c = a.unsqueeze(0)\r\n",
    "print(c)\r\n",
    "print(c.shape) #1,2\r\n",
    "\r\n",
    "\"\"\"\r\n",
    "tensor([[1.2000],\r\n",
    "        [3.4000]])\r\n",
    "torch.Size([2, 1])\r\n",
    "tensor([[1.2000, 3.4000]])\r\n",
    "torch.Size([1, 2])\r\n",
    "\"\"\""
   ]
  },
  {
   "cell_type": "code",
   "execution_count": null,
   "metadata": {},
   "outputs": [],
   "source": []
  },
  {
   "cell_type": "code",
   "execution_count": 3,
   "metadata": {},
   "outputs": [
    {
     "data": {
      "text/plain": "torch.Size([1, 32, 1, 1])"
     },
     "execution_count": 3,
     "metadata": {},
     "output_type": "execute_result"
    }
   ],
   "source": [
    "# squeeze 维度挤压 维度删减\r\n",
    "import torch\r\n",
    "\r\n",
    "b = torch.rand(1,32,1,1)\r\n",
    "b.shape"
   ]
  },
  {
   "cell_type": "code",
   "execution_count": 4,
   "metadata": {},
   "outputs": [
    {
     "data": {
      "text/plain": "torch.Size([32])"
     },
     "execution_count": 4,
     "metadata": {},
     "output_type": "execute_result"
    }
   ],
   "source": [
    "b.squeeze().shape"
   ]
  },
  {
   "cell_type": "code",
   "execution_count": 8,
   "metadata": {},
   "outputs": [
    {
     "data": {
      "text/plain": "torch.Size([32, 1, 1])"
     },
     "execution_count": 8,
     "metadata": {},
     "output_type": "execute_result"
    }
   ],
   "source": [
    "b.squeeze(0).shape"
   ]
  },
  {
   "cell_type": "code",
   "execution_count": 7,
   "metadata": {},
   "outputs": [
    {
     "data": {
      "text/plain": "torch.Size([1, 32, 1])"
     },
     "execution_count": 7,
     "metadata": {},
     "output_type": "execute_result"
    }
   ],
   "source": [
    "b.squeeze(-1).shape"
   ]
  },
  {
   "cell_type": "code",
   "execution_count": 6,
   "metadata": {},
   "outputs": [
    {
     "data": {
      "text/plain": "torch.Size([1, 32, 1, 1])"
     },
     "execution_count": 6,
     "metadata": {},
     "output_type": "execute_result"
    }
   ],
   "source": [
    "b.squeeze(1).shape"
   ]
  },
  {
   "cell_type": "code",
   "execution_count": 5,
   "metadata": {},
   "outputs": [
    {
     "data": {
      "text/plain": "torch.Size([32, 1, 1])"
     },
     "execution_count": 5,
     "metadata": {},
     "output_type": "execute_result"
    }
   ],
   "source": [
    "b.squeeze(-4).shape\r\n"
   ]
  },
  {
   "cell_type": "markdown",
   "metadata": {},
   "source": [
    "## 拓展维度\r\n",
    "* Expand : 改变维度方式，没有增加数据\r\n",
    "* Repeat : 实实在在的增加了数据\r\n"
   ]
  },
  {
   "cell_type": "code",
   "execution_count": 9,
   "metadata": {},
   "outputs": [
    {
     "name": "stdout",
     "output_type": "stream",
     "text": [
      "torch.Size([1, 32, 1, 1])\n",
      "torch.Size([4, 32, 14, 14])\n",
      "torch.Size([1, 32, 1, 1])\n",
      "torch.Size([1, 32, 1, -4])\n"
     ]
    }
   ],
   "source": [
    "a = torch.rand(4,32,14,14)\r\n",
    "\r\n",
    "print(b.shape)\r\n",
    "print(b.expand(4,32,14,14).shape)\r\n",
    "print(b.expand(-1,32,-1,-1).shape)\r\n",
    "print(b.expand(-1,32,-1,-4).shape)"
   ]
  },
  {
   "cell_type": "code",
   "execution_count": 10,
   "metadata": {},
   "outputs": [
    {
     "name": "stdout",
     "output_type": "stream",
     "text": [
      "torch.Size([1, 32, 1, 1])\n",
      "torch.Size([4, 1024, 1, 1])\n",
      "torch.Size([4, 32, 1, 1])\n",
      "torch.Size([4, 32, 32, 32])\n"
     ]
    }
   ],
   "source": [
    "# repeat 表示每一个维度所要拷贝的次数\r\n",
    "print(b.shape)\r\n",
    "print(b.repeat(4,32,1,1).shape)\r\n",
    "print(b.repeat(4,1,1,1).shape)\r\n",
    "print(b.repeat(4,1,32,32).shape)"
   ]
  },
  {
   "cell_type": "code",
   "execution_count": 11,
   "metadata": {},
   "outputs": [
    {
     "name": "stdout",
     "output_type": "stream",
     "text": [
      "tensor([[-0.4120, -0.0270, -2.3370,  1.5572],\n",
      "        [ 1.6618,  0.1310,  0.7911, -0.5352],\n",
      "        [-0.9059, -1.2209,  0.1778,  1.7793]])\n",
      "torch.Size([3, 4])\n",
      "tensor([[-0.4120,  1.6618, -0.9059],\n",
      "        [-0.0270,  0.1310, -1.2209],\n",
      "        [-2.3370,  0.7911,  0.1778],\n",
      "        [ 1.5572, -0.5352,  1.7793]])\n",
      "torch.Size([4, 3])\n"
     ]
    }
   ],
   "source": [
    "# 转置操作\r\n",
    "a = torch.randn(3,4)\r\n",
    "print(a)\r\n",
    "print(a.shape)\r\n",
    "\r\n",
    "b = a.t()\r\n",
    "print(b)\r\n",
    "print(b.shape)"
   ]
  },
  {
   "cell_type": "code",
   "execution_count": 17,
   "metadata": {},
   "outputs": [
    {
     "name": "stdout",
     "output_type": "stream",
     "text": [
      "torch.Size([4, 3, 32, 32]) torch.Size([4, 32, 32, 3])\n"
     ]
    }
   ],
   "source": [
    "# 维度之间转置 transpose\r\n",
    "a = torch.rand(4,3,32,32)\r\n",
    "\r\n",
    "# a1 = a.transpose(1,3).view(4,3*32*32).view(4,3,32,32)\r\n",
    "\r\n",
    "a1 = a.transpose(1,3).contiguous().view(4,3*32*32).view(4,3,32,32)\r\n",
    "\r\n",
    "a2 = a.transpose(1,3).contiguous().view(4,3*32*32).view(4,3,32,32).transpose(1,3)\r\n",
    "\r\n",
    "print(a1.shape,a2.shape)\r\n",
    "\r\n",
    "# print(torch.all(torch.eq(a,a1)))\r\n",
    "# print(torch.all(torch.eq(a,a2)))"
   ]
  },
  {
   "cell_type": "code",
   "execution_count": 3,
   "metadata": {},
   "outputs": [
    {
     "name": "stdout",
     "output_type": "stream",
     "text": [
      "torch.Size([4, 28, 28, 3])\n",
      "torch.Size([4, 28, 28, 3])\n"
     ]
    }
   ],
   "source": [
    "# 更加方便的转置维度\r\n",
    "import torch\r\n",
    "a = torch.rand(4,3,28,28)\r\n",
    "\r\n",
    "print(a.transpose(1,3).transpose(1,2).shape)\r\n",
    "\r\n",
    "print(a.permute(0,2,3,1).shape)"
   ]
  }
 ],
 "metadata": {
  "kernelspec": {
   "display_name": "Python 3.8.3 64-bit (conda)",
   "metadata": {
    "interpreter": {
     "hash": "a8f61be024eba58adef938c9aa1e29e02cb3dece83a5348b1a2dafd16a070453"
    }
   },
   "name": "python3"
  },
  "language_info": {
   "codemirror_mode": {
    "name": "ipython",
    "version": 3
   },
   "file_extension": ".py",
   "mimetype": "text/x-python",
   "name": "python",
   "nbconvert_exporter": "python",
   "pygments_lexer": "ipython3",
   "version": "3.8.3"
  },
  "orig_nbformat": 2
 },
 "nbformat": 4,
 "nbformat_minor": 2
}