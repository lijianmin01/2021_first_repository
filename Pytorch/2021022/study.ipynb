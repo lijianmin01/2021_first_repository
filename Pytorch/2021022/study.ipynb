{
 "metadata": {
  "language_info": {
   "codemirror_mode": {
    "name": "ipython",
    "version": 3
   },
   "file_extension": ".py",
   "mimetype": "text/x-python",
   "name": "python",
   "nbconvert_exporter": "python",
   "pygments_lexer": "ipython3",
   "version": "3.7.3-final"
  },
  "orig_nbformat": 2,
  "kernelspec": {
   "name": "python3",
   "display_name": "Python 3.7.3 64-bit ('anaconda3': virtualenv)",
   "metadata": {
    "interpreter": {
     "hash": "7943cd3eb215ae0b0f1d7a1ba1bc085daa906538df3dd6f6ea8f0580cc085ed8"
    }
   }
  }
 },
 "nbformat": 4,
 "nbformat_minor": 2,
 "cells": [
  {
   "cell_type": "code",
   "execution_count": 2,
   "metadata": {},
   "outputs": [
    {
     "output_type": "execute_result",
     "data": {
      "text/plain": [
       "tensor([[[[0.2912, 0.8240, 0.1389,  ..., 0.1179, 0.1145, 0.0258],\n",
       "          [0.8298, 0.1631, 0.6585,  ..., 0.1811, 0.5067, 0.5893],\n",
       "          [0.0571, 0.1128, 0.9292,  ..., 0.7277, 0.8212, 0.5394],\n",
       "          ...,\n",
       "          [0.2191, 0.1738, 0.0020,  ..., 0.4645, 0.4433, 0.9738],\n",
       "          [0.2264, 0.9038, 0.8152,  ..., 0.2853, 0.7956, 0.4560],\n",
       "          [0.3794, 0.4391, 0.5080,  ..., 0.3222, 0.1269, 0.1705]]],\n",
       "\n",
       "\n",
       "        [[[0.7879, 0.2540, 0.3609,  ..., 0.1184, 0.6009, 0.0269],\n",
       "          [0.6097, 0.5970, 0.5764,  ..., 0.1926, 0.9530, 0.2856],\n",
       "          [0.1587, 0.9520, 0.7685,  ..., 0.9110, 0.0030, 0.1673],\n",
       "          ...,\n",
       "          [0.2319, 0.8489, 0.0167,  ..., 0.2484, 0.5206, 0.9615],\n",
       "          [0.4075, 0.5024, 0.7988,  ..., 0.0976, 0.1272, 0.6837],\n",
       "          [0.4641, 0.8275, 0.5804,  ..., 0.3427, 0.6100, 0.6526]]],\n",
       "\n",
       "\n",
       "        [[[0.8487, 0.9763, 0.5317,  ..., 0.1810, 0.0204, 0.3074],\n",
       "          [0.1538, 0.4457, 0.8157,  ..., 0.7549, 0.4608, 0.2854],\n",
       "          [0.5942, 0.3322, 0.9822,  ..., 0.0234, 0.6607, 0.4118],\n",
       "          ...,\n",
       "          [0.9219, 0.2036, 0.9489,  ..., 0.0198, 0.9091, 0.0599],\n",
       "          [0.6362, 0.8990, 0.6877,  ..., 0.4624, 0.0298, 0.7868],\n",
       "          [0.3064, 0.3466, 0.2808,  ..., 0.9548, 0.2950, 0.4159]]],\n",
       "\n",
       "\n",
       "        [[[0.3554, 0.2794, 0.4443,  ..., 0.0040, 0.4604, 0.1471],\n",
       "          [0.1468, 0.5803, 0.0791,  ..., 0.5008, 0.3762, 0.3003],\n",
       "          [0.9362, 0.8738, 0.3835,  ..., 0.0249, 0.8722, 0.0236],\n",
       "          ...,\n",
       "          [0.1511, 0.2234, 0.4781,  ..., 0.7155, 0.6894, 0.3416],\n",
       "          [0.9200, 0.1016, 0.8768,  ..., 0.5741, 0.0523, 0.3196],\n",
       "          [0.0191, 0.9810, 0.8059,  ..., 0.4812, 0.3853, 0.5186]]]])"
      ]
     },
     "metadata": {},
     "execution_count": 2
    }
   ],
   "source": [
    "import torch\n",
    "a = torch.rand(4,1,28,28)\n",
    "a"
   ]
  },
  {
   "cell_type": "code",
   "execution_count": 5,
   "metadata": {},
   "outputs": [
    {
     "output_type": "stream",
     "name": "stdout",
     "text": [
      "w1:tensor([[ 1.4922, -1.6461,  1.8610,  ..., -0.2715, -0.1230,  2.1349],\n        [-1.4734, -1.1345,  0.6585,  ..., -0.6247, -0.8721,  2.1671],\n        [ 0.0417, -1.1218,  0.2245,  ..., -0.4234,  0.8054, -1.1324],\n        ...,\n        [-0.3432,  1.4359, -0.7526,  ..., -0.4253, -1.2177, -0.3931],\n        [ 0.8989,  0.1729, -1.7610,  ..., -1.2109, -0.2222,  1.0336],\n        [-0.4948,  1.6116, -0.6534,  ...,  2.1029,  1.2811, -1.2006]],\n       requires_grad=True)  b1:tensor([0., 0., 0., 0., 0., 0., 0., 0., 0., 0., 0., 0., 0., 0., 0., 0., 0., 0., 0., 0., 0., 0., 0., 0.,\n        0., 0., 0., 0., 0., 0., 0., 0., 0., 0., 0., 0., 0., 0., 0., 0., 0., 0., 0., 0., 0., 0., 0., 0.,\n        0., 0., 0., 0., 0., 0., 0., 0., 0., 0., 0., 0., 0., 0., 0., 0., 0., 0., 0., 0., 0., 0., 0., 0.,\n        0., 0., 0., 0., 0., 0., 0., 0., 0., 0., 0., 0., 0., 0., 0., 0., 0., 0., 0., 0., 0., 0., 0., 0.,\n        0., 0., 0., 0., 0., 0., 0., 0., 0., 0., 0., 0., 0., 0., 0., 0., 0., 0., 0., 0., 0., 0., 0., 0.,\n        0., 0., 0., 0., 0., 0., 0., 0., 0., 0., 0., 0., 0., 0., 0., 0., 0., 0., 0., 0., 0., 0., 0., 0.,\n        0., 0., 0., 0., 0., 0., 0., 0., 0., 0., 0., 0., 0., 0., 0., 0., 0., 0., 0., 0., 0., 0., 0., 0.,\n        0., 0., 0., 0., 0., 0., 0., 0., 0., 0., 0., 0., 0., 0., 0., 0., 0., 0., 0., 0., 0., 0., 0., 0.,\n        0., 0., 0., 0., 0., 0., 0., 0.], requires_grad=True)\nw2:tensor([[ 1.8636,  0.3430, -0.3672,  ..., -0.2010,  0.6453,  1.0031],\n        [-0.2165, -0.4489,  1.2783,  ..., -1.2659, -0.9475, -1.4551],\n        [-1.0404,  0.6259,  1.1400,  ..., -0.6896, -0.3564,  0.5732],\n        ...,\n        [ 1.4873, -0.4552,  0.3333,  ..., -0.7973,  1.1164, -0.2385],\n        [-0.2505, -0.0568, -1.6496,  ...,  0.2273, -1.7245, -0.6570],\n        [-2.5260, -0.1778, -0.5431,  ..., -0.8455,  0.0686,  0.6959]],\n       requires_grad=True)  b2:tensor([0., 0., 0., 0., 0., 0., 0., 0., 0., 0., 0., 0., 0., 0., 0., 0., 0., 0., 0., 0., 0., 0., 0., 0.,\n        0., 0., 0., 0., 0., 0., 0., 0., 0., 0., 0., 0., 0., 0., 0., 0., 0., 0., 0., 0., 0., 0., 0., 0.,\n        0., 0., 0., 0., 0., 0., 0., 0., 0., 0., 0., 0., 0., 0., 0., 0., 0., 0., 0., 0., 0., 0., 0., 0.,\n        0., 0., 0., 0., 0., 0., 0., 0., 0., 0., 0., 0., 0., 0., 0., 0., 0., 0., 0., 0., 0., 0., 0., 0.,\n        0., 0., 0., 0., 0., 0., 0., 0., 0., 0., 0., 0., 0., 0., 0., 0., 0., 0., 0., 0., 0., 0., 0., 0.,\n        0., 0., 0., 0., 0., 0., 0., 0., 0., 0., 0., 0., 0., 0., 0., 0., 0., 0., 0., 0., 0., 0., 0., 0.,\n        0., 0., 0., 0., 0., 0., 0., 0., 0., 0., 0., 0., 0., 0., 0., 0., 0., 0., 0., 0., 0., 0., 0., 0.,\n        0., 0., 0., 0., 0., 0., 0., 0., 0., 0., 0., 0., 0., 0., 0., 0., 0., 0., 0., 0., 0., 0., 0., 0.,\n        0., 0., 0., 0., 0., 0., 0., 0.], requires_grad=True)\nw3:tensor([[-1.8699,  0.5338,  0.2464,  ..., -0.6008,  0.9537,  0.3820],\n        [-0.3856,  0.1046, -0.9574,  ..., -0.2543,  1.5333,  0.1315],\n        [ 0.7860,  0.1504,  1.5666,  ...,  0.7459, -0.1834, -0.6783],\n        ...,\n        [-0.8397, -0.0938, -0.8476,  ..., -0.5837, -0.1355,  1.2614],\n        [ 0.1158,  0.0127, -0.9982,  ..., -1.1439,  1.5493,  1.4053],\n        [ 1.2237, -0.7894,  0.2615,  ..., -0.0311,  1.6423, -0.8699]],\n       requires_grad=True)  b3:tensor([0., 0., 0., 0., 0., 0., 0., 0., 0., 0.], requires_grad=True)\n\n"
     ]
    }
   ],
   "source": [
    "import torch\n",
    "import torch.nn.functional as F\n",
    "w1,b1 = torch.randn(200,784,requires_grad=True),torch.zeros(200,requires_grad=True)\n",
    "\n",
    "w2,b2 = torch.randn(200,200,requires_grad=True),torch.zeros(200,requires_grad=True)\n",
    "\n",
    "w3,b3 = torch.randn(10,200,requires_grad=True),torch.zeros(10,requires_grad=True)\n",
    "\n",
    "def forward(x):\n",
    "    x = x@w1.t() + b1\n",
    "    x = F.relu(x)\n",
    "    x = x@w2.t() + b2\n",
    "    x = F.relu(x)\n",
    "    x = x@w2.t() + b2\n",
    "    x = F.relu(x)\n",
    "    return x\n",
    "\n",
    "print(\"w1:{}  b1:{}\\nw2:{}  b2:{}\\nw3:{}  b3:{}\\n\".format(w1,b1,w2,b2,w3,b3))\n"
   ]
  },
  {
   "cell_type": "code",
   "execution_count": null,
   "metadata": {},
   "outputs": [],
   "source": [
    "import torch.nn as nn\n",
    "\n",
    "optimizer = optim.SDG([w1,b1,w2,b2,w3,b3],lr=learning_rate)\n",
    "\n",
    "criteon = nn.CrossEntropyLoss()\n",
    "\n",
    "for epoch in range(100):\n",
    "    pass"
   ]
  },
  {
   "cell_type": "code",
   "execution_count": 6,
   "metadata": {},
   "outputs": [
    {
     "output_type": "stream",
     "name": "stdout",
     "text": [
      "Downloading http://yann.lecun.com/exdb/mnist/train-images-idx3-ubyte.gz to /home/lijianmin/MLdateSets/mnist/MNIST/raw/train-images-idx3-ubyte.gz\n"
     ]
    },
    {
     "output_type": "display_data",
     "data": {
      "text/plain": "HBox(children=(IntProgress(value=1, bar_style='info', max=1), HTML(value='')))",
      "application/vnd.jupyter.widget-view+json": {
       "version_major": 2,
       "version_minor": 0,
       "model_id": "e19da40f6c65425ebc5638fbd4ee2ff3"
      }
     },
     "metadata": {}
    },
    {
     "output_type": "stream",
     "name": "stdout",
     "text": [
      "Extracting /home/lijianmin/MLdateSets/mnist/MNIST/raw/train-images-idx3-ubyte.gz to /home/lijianmin/MLdateSets/mnist/MNIST/raw\n",
      "Downloading http://yann.lecun.com/exdb/mnist/train-labels-idx1-ubyte.gz to /home/lijianmin/MLdateSets/mnist/MNIST/raw/train-labels-idx1-ubyte.gz\n"
     ]
    },
    {
     "output_type": "display_data",
     "data": {
      "text/plain": "HBox(children=(IntProgress(value=1, bar_style='info', max=1), HTML(value='')))",
      "application/vnd.jupyter.widget-view+json": {
       "version_major": 2,
       "version_minor": 0,
       "model_id": "bba351acc7444f26b1ed35f40cfe11f9"
      }
     },
     "metadata": {}
    },
    {
     "output_type": "stream",
     "name": "stdout",
     "text": [
      "Extracting /home/lijianmin/MLdateSets/mnist/MNIST/raw/train-labels-idx1-ubyte.gz to /home/lijianmin/MLdateSets/mnist/MNIST/raw\nDownloading http://yann.lecun.com/exdb/mnist/t10k-images-idx3-ubyte.gz to /home/lijianmin/MLdateSets/mnist/MNIST/raw/t10k-images-idx3-ubyte.gz\n"
     ]
    },
    {
     "output_type": "display_data",
     "data": {
      "text/plain": "HBox(children=(IntProgress(value=1, bar_style='info', max=1), HTML(value='')))",
      "application/vnd.jupyter.widget-view+json": {
       "version_major": 2,
       "version_minor": 0,
       "model_id": "45b1d4aa84634718b69c3ce592c3dd2e"
      }
     },
     "metadata": {}
    },
    {
     "output_type": "stream",
     "name": "stdout",
     "text": [
      "Extracting /home/lijianmin/MLdateSets/mnist/MNIST/raw/t10k-images-idx3-ubyte.gz to /home/lijianmin/MLdateSets/mnist/MNIST/raw\nDownloading http://yann.lecun.com/exdb/mnist/t10k-labels-idx1-ubyte.gz to /home/lijianmin/MLdateSets/mnist/MNIST/raw/t10k-labels-idx1-ubyte.gz\n"
     ]
    },
    {
     "output_type": "display_data",
     "data": {
      "text/plain": "HBox(children=(IntProgress(value=1, bar_style='info', max=1), HTML(value='')))",
      "application/vnd.jupyter.widget-view+json": {
       "version_major": 2,
       "version_minor": 0,
       "model_id": "bca0aa324dcc45289dbbcc88f18ffbcf"
      }
     },
     "metadata": {}
    },
    {
     "output_type": "stream",
     "name": "stdout",
     "text": [
      "Extracting /home/lijianmin/MLdateSets/mnist/MNIST/raw/t10k-labels-idx1-ubyte.gz to /home/lijianmin/MLdateSets/mnist/MNIST/raw\n",
      "Processing...\n",
      "Done!\n",
      "Train Epoch: 0 [0/60000 (0%)]\tLoss: 2.722248\n",
      "Train Epoch: 0 [20000/60000 (33%)]\tLoss: 0.853455\n",
      "Train Epoch: 0 [40000/60000 (67%)]\tLoss: 0.583900\n",
      "\n",
      "Test set: Average loss: 0.0018, Accuracy: 8971/10000 (90%)\n",
      "\n",
      "Train Epoch: 1 [0/60000 (0%)]\tLoss: 0.368854\n",
      "Train Epoch: 1 [20000/60000 (33%)]\tLoss: 0.418124\n",
      "Train Epoch: 1 [40000/60000 (67%)]\tLoss: 0.411069\n",
      "\n",
      "Test set: Average loss: 0.0014, Accuracy: 9215/10000 (92%)\n",
      "\n",
      "Train Epoch: 2 [0/60000 (0%)]\tLoss: 0.309385\n",
      "Train Epoch: 2 [20000/60000 (33%)]\tLoss: 0.274997\n",
      "Train Epoch: 2 [40000/60000 (67%)]\tLoss: 0.265569\n",
      "\n",
      "Test set: Average loss: 0.0012, Accuracy: 9304/10000 (93%)\n",
      "\n",
      "Train Epoch: 3 [0/60000 (0%)]\tLoss: 0.181383\n",
      "Train Epoch: 3 [20000/60000 (33%)]\tLoss: 0.227704\n",
      "Train Epoch: 3 [40000/60000 (67%)]\tLoss: 0.209569\n",
      "\n",
      "Test set: Average loss: 0.0011, Accuracy: 9394/10000 (94%)\n",
      "\n",
      "Train Epoch: 4 [0/60000 (0%)]\tLoss: 0.251193\n",
      "Train Epoch: 4 [20000/60000 (33%)]\tLoss: 0.215626\n",
      "Train Epoch: 4 [40000/60000 (67%)]\tLoss: 0.213376\n",
      "\n",
      "Test set: Average loss: 0.0010, Accuracy: 9427/10000 (94%)\n",
      "\n",
      "Train Epoch: 5 [0/60000 (0%)]\tLoss: 0.244551\n",
      "Train Epoch: 5 [20000/60000 (33%)]\tLoss: 0.196735\n",
      "Train Epoch: 5 [40000/60000 (67%)]\tLoss: 0.184818\n",
      "\n",
      "Test set: Average loss: 0.0009, Accuracy: 9479/10000 (95%)\n",
      "\n",
      "Train Epoch: 6 [0/60000 (0%)]\tLoss: 0.145348\n",
      "Train Epoch: 6 [20000/60000 (33%)]\tLoss: 0.180759\n",
      "Train Epoch: 6 [40000/60000 (67%)]\tLoss: 0.194867\n",
      "\n",
      "Test set: Average loss: 0.0009, Accuracy: 9482/10000 (95%)\n",
      "\n",
      "Train Epoch: 7 [0/60000 (0%)]\tLoss: 0.206221\n",
      "Train Epoch: 7 [20000/60000 (33%)]\tLoss: 0.142671\n",
      "Train Epoch: 7 [40000/60000 (67%)]\tLoss: 0.109728\n",
      "\n",
      "Test set: Average loss: 0.0008, Accuracy: 9513/10000 (95%)\n",
      "\n",
      "Train Epoch: 8 [0/60000 (0%)]\tLoss: 0.107591\n",
      "Train Epoch: 8 [20000/60000 (33%)]\tLoss: 0.134130\n",
      "Train Epoch: 8 [40000/60000 (67%)]\tLoss: 0.119982\n",
      "\n",
      "Test set: Average loss: 0.0008, Accuracy: 9543/10000 (95%)\n",
      "\n",
      "Train Epoch: 9 [0/60000 (0%)]\tLoss: 0.135001\n",
      "Train Epoch: 9 [20000/60000 (33%)]\tLoss: 0.138858\n",
      "Train Epoch: 9 [40000/60000 (67%)]\tLoss: 0.178976\n",
      "\n",
      "Test set: Average loss: 0.0007, Accuracy: 9553/10000 (96%)\n",
      "\n"
     ]
    }
   ],
   "source": [
    "# 多分类实战\n",
    "import  torch\n",
    "import  torch.nn as nn\n",
    "import  torch.nn.functional as F\n",
    "import  torch.optim as optim\n",
    "from    torchvision import datasets, transforms\n",
    "\n",
    "\n",
    "batch_size=200\n",
    "learning_rate=0.01\n",
    "epochs=10\n",
    "\n",
    "train_loader = torch.utils.data.DataLoader(\n",
    "    datasets.MNIST('/home/lijianmin/MLdateSets/mnist/', train=True, download=False,\n",
    "                   transform=transforms.Compose([\n",
    "                       transforms.ToTensor(),\n",
    "                       transforms.Normalize((0.1307,), (0.3081,))\n",
    "                   ])),\n",
    "    batch_size=batch_size, shuffle=True)\n",
    "test_loader = torch.utils.data.DataLoader(\n",
    "    datasets.MNIST('/home/lijianmin/MLdateSets/mnist/', train=False, transform=transforms.Compose([\n",
    "        transforms.ToTensor(),\n",
    "        transforms.Normalize((0.1307,), (0.3081,))\n",
    "    ])),\n",
    "    batch_size=batch_size, shuffle=True)\n",
    "\n",
    "\n",
    "\n",
    "w1, b1 = torch.randn(200, 784, requires_grad=True),\\\n",
    "         torch.zeros(200, requires_grad=True)\n",
    "w2, b2 = torch.randn(200, 200, requires_grad=True),\\\n",
    "         torch.zeros(200, requires_grad=True)\n",
    "w3, b3 = torch.randn(10, 200, requires_grad=True),\\\n",
    "         torch.zeros(10, requires_grad=True)\n",
    "\n",
    "torch.nn.init.kaiming_normal_(w1)\n",
    "torch.nn.init.kaiming_normal_(w2)\n",
    "torch.nn.init.kaiming_normal_(w3)\n",
    "\n",
    "\n",
    "def forward(x):\n",
    "    x = x@w1.t() + b1\n",
    "    x = F.relu(x)\n",
    "    x = x@w2.t() + b2\n",
    "    x = F.relu(x)\n",
    "    x = x@w3.t() + b3\n",
    "    x = F.relu(x)\n",
    "    return x\n",
    "\n",
    "\n",
    "\n",
    "optimizer = optim.SGD([w1, b1, w2, b2, w3, b3], lr=learning_rate)\n",
    "criteon = nn.CrossEntropyLoss()\n",
    "\n",
    "for epoch in range(epochs):\n",
    "\n",
    "    for batch_idx, (data, target) in enumerate(train_loader):\n",
    "        data = data.view(-1, 28*28)\n",
    "\n",
    "        logits = forward(data)\n",
    "        loss = criteon(logits, target)\n",
    "\n",
    "        optimizer.zero_grad()\n",
    "        loss.backward()\n",
    "        # print(w1.grad.norm(), w2.grad.norm())\n",
    "        optimizer.step()\n",
    "\n",
    "        if batch_idx % 100 == 0:\n",
    "            print('Train Epoch: {} [{}/{} ({:.0f}%)]\\tLoss: {:.6f}'.format(\n",
    "                epoch, batch_idx * len(data), len(train_loader.dataset),\n",
    "                       100. * batch_idx / len(train_loader), loss.item()))\n",
    "\n",
    "\n",
    "    test_loss = 0\n",
    "    correct = 0\n",
    "    for data, target in test_loader:\n",
    "        data = data.view(-1, 28 * 28)\n",
    "        logits = forward(data)\n",
    "        test_loss += criteon(logits, target).item()\n",
    "\n",
    "        pred = logits.data.max(1)[1]\n",
    "        correct += pred.eq(target.data).sum()\n",
    "\n",
    "    test_loss /= len(test_loader.dataset)\n",
    "    print('\\nTest set: Average loss: {:.4f}, Accuracy: {}/{} ({:.0f}%)\\n'.format(\n",
    "        test_loss, correct, len(test_loader.dataset),\n",
    "        100. * correct / len(test_loader.dataset)))"
   ]
  },
  {
   "cell_type": "code",
   "execution_count": 16,
   "metadata": {},
   "outputs": [
    {
     "output_type": "stream",
     "name": "stdout",
     "text": [
      "start\n",
      "Train Epoch: 0 [0/60000 (0%)]\tLoss: 2.303117\n",
      "Train Epoch: 0 [20000/60000 (33%)]\tLoss: 2.146288\n",
      "Train Epoch: 0 [40000/60000 (67%)]\tLoss: 1.808582\n",
      "Train Epoch: 1 [0/60000 (0%)]\tLoss: 1.539212\n",
      "Train Epoch: 1 [20000/60000 (33%)]\tLoss: 1.366906\n",
      "Train Epoch: 1 [40000/60000 (67%)]\tLoss: 1.238026\n",
      "Train Epoch: 2 [0/60000 (0%)]\tLoss: 1.341212\n",
      "Train Epoch: 2 [20000/60000 (33%)]\tLoss: 1.284067\n",
      "Train Epoch: 2 [40000/60000 (67%)]\tLoss: 1.247394\n",
      "Train Epoch: 3 [0/60000 (0%)]\tLoss: 1.068597\n",
      "Train Epoch: 3 [20000/60000 (33%)]\tLoss: 1.061128\n",
      "Train Epoch: 3 [40000/60000 (67%)]\tLoss: 1.036395\n",
      "Train Epoch: 4 [0/60000 (0%)]\tLoss: 0.983207\n",
      "Train Epoch: 4 [20000/60000 (33%)]\tLoss: 1.027784\n",
      "Train Epoch: 4 [40000/60000 (67%)]\tLoss: 1.154086\n",
      "Train Epoch: 5 [0/60000 (0%)]\tLoss: 1.086431\n",
      "Train Epoch: 5 [20000/60000 (33%)]\tLoss: 1.009855\n",
      "Train Epoch: 5 [40000/60000 (67%)]\tLoss: 0.897051\n",
      "Train Epoch: 6 [0/60000 (0%)]\tLoss: 0.918436\n",
      "Train Epoch: 6 [20000/60000 (33%)]\tLoss: 0.809615\n",
      "Train Epoch: 6 [40000/60000 (67%)]\tLoss: 0.970043\n",
      "Train Epoch: 7 [0/60000 (0%)]\tLoss: 0.908746\n",
      "Train Epoch: 7 [20000/60000 (33%)]\tLoss: 0.913007\n",
      "Train Epoch: 7 [40000/60000 (67%)]\tLoss: 0.939442\n",
      "Train Epoch: 8 [0/60000 (0%)]\tLoss: 0.936468\n",
      "Train Epoch: 8 [20000/60000 (33%)]\tLoss: 0.915642\n",
      "Train Epoch: 8 [40000/60000 (67%)]\tLoss: 0.834736\n",
      "Train Epoch: 9 [0/60000 (0%)]\tLoss: 0.885893\n",
      "Train Epoch: 9 [20000/60000 (33%)]\tLoss: 0.963295\n",
      "Train Epoch: 9 [40000/60000 (67%)]\tLoss: 0.961111\n",
      "end\n"
     ]
    }
   ],
   "source": [
    "\n",
    "import  torch\n",
    "import  torch.nn as nn\n",
    "import  torch.nn.functional as F\n",
    "import  torch.optim as optim\n",
    "from    torchvision import datasets, transforms\n",
    "\n",
    "\n",
    "batch_size=200\n",
    "learning_rate=0.01\n",
    "epochs=10\n",
    "\n",
    "train_loader = torch.utils.data.DataLoader(\n",
    "    datasets.MNIST('/home/lijianmin/MLdateSets/', train=True, download=False,\n",
    "                   transform=transforms.Compose([\n",
    "                       transforms.ToTensor(),\n",
    "                       transforms.Normalize((0.1307,), (0.3081,))\n",
    "                   ])),\n",
    "    batch_size=batch_size, shuffle=True)\n",
    "test_loader = torch.utils.data.DataLoader(\n",
    "    datasets.MNIST('/home/lijianmin/MLdateSets/', train=False, transform=transforms.Compose([\n",
    "        transforms.ToTensor(),\n",
    "        transforms.Normalize((0.1307,), (0.3081,))\n",
    "    ])),\n",
    "    batch_size=batch_size, shuffle=True)\n",
    "\n",
    "# nn.Linear\n",
    "\n",
    "\n",
    "class MLP(nn.Module):\n",
    "\n",
    "    def __init__(self):\n",
    "        super(MLP,self).__init__()\n",
    "\n",
    "        self.model = nn.Sequential(\n",
    "            nn.Linear(784,200),\n",
    "            nn.ReLU(inplace=True),\n",
    "            nn.Linear(200,200),\n",
    "            nn.ReLU(inplace=True),\n",
    "            nn.Linear(200,10),\n",
    "            nn.ReLU(inplace=True),\n",
    "        )\n",
    "\n",
    "    def forward(self,x):\n",
    "        x = self.model(x)\n",
    "        return x\n",
    "\n",
    "\n",
    "print(\"start\")\n",
    "# train part\n",
    "net = MLP()\n",
    "optimizer = optim.SGD(net.parameters(),lr=learning_rate)\n",
    "\n",
    "criteon = nn.CrossEntropyLoss()\n",
    "\n",
    "for epoch in range(epochs):\n",
    "\n",
    "    for batch_idx,(data,target) in enumerate(train_loader):\n",
    "        data = data.view(-1,28*28)\n",
    "\n",
    "        logits = net(data)\n",
    "        loss = criteon(logits,target)\n",
    "\n",
    "        optimizer.zero_grad()\n",
    "        loss.backward()\n",
    "        optimizer.step()\n",
    "\n",
    "        if batch_idx % 100 == 0:\n",
    "            print('Train Epoch: {} [{}/{} ({:.0f}%)]\\tLoss: {:.6f}'.format(epoch, batch_idx * len(data), len(train_loader.dataset),100. * batch_idx / len(train_loader), loss.item()))\n",
    "\n",
    "print(\"end\")"
   ]
  },
  {
   "cell_type": "code",
   "execution_count": 17,
   "metadata": {},
   "outputs": [
    {
     "output_type": "stream",
     "name": "stdout",
     "text": [
      "\nTest set: Average loss: 0.0045, Accuracy: 6441/10000 (64%)\n\n"
     ]
    }
   ],
   "source": [
    "test_loss = 0\n",
    "correct = 0\n",
    "for data, target in test_loader:\n",
    "    data = data.view(-1, 28 * 28)\n",
    "    logits = net(data)\n",
    "    test_loss += criteon(logits, target).item()\n",
    "\n",
    "    pred = logits.data.max(1)[1]\n",
    "    correct += pred.eq(target.data).sum()\n",
    "\n",
    "test_loss /= len(test_loader.dataset)\n",
    "print('\\nTest set: Average loss: {:.4f}, Accuracy: {}/{} ({:.0f}%)\\n'.format(\n",
    "    test_loss, correct, len(test_loader.dataset),\n",
    "    100. * correct / len(test_loader.dataset)))"
   ]
  },
  {
   "source": [
    "## https://www.bilibili.com/video/BV1Sr4y1N71H?p=40\n"
   ],
   "cell_type": "markdown",
   "metadata": {}
  }
 ]
}